{
 "cells": [
  {
   "cell_type": "code",
   "execution_count": 1,
   "metadata": {},
   "outputs": [
    {
     "name": "stderr",
     "output_type": "stream",
     "text": [
      "Cloning into 'digitaldemocracy-2015-2018'...\n",
      "Updating files: 100% (3/3)\n",
      "Updating files: 100% (3/3), done.\n",
      "'unzip' is not recognized as an internal or external command,\n",
      "operable program or batch file.\n"
     ]
    }
   ],
   "source": [
    "!git clone https://huggingface.co/datasets/iatpp/digitaldemocracy-2015-2018"
   ]
  },
  {
   "cell_type": "code",
   "execution_count": 4,
   "metadata": {},
   "outputs": [
    {
     "ename": "OverflowError",
     "evalue": "Python int too large to convert to C long",
     "output_type": "error",
     "traceback": [
      "\u001b[1;31m---------------------------------------------------------------------------\u001b[0m",
      "\u001b[1;31mOverflowError\u001b[0m                             Traceback (most recent call last)",
      "Cell \u001b[1;32mIn[4], line 4\u001b[0m\n\u001b[0;32m      1\u001b[0m \u001b[38;5;28;01mimport\u001b[39;00m \u001b[38;5;21;01msys\u001b[39;00m\n\u001b[0;32m      2\u001b[0m \u001b[38;5;28;01mimport\u001b[39;00m \u001b[38;5;21;01mcsv\u001b[39;00m\n\u001b[1;32m----> 4\u001b[0m \u001b[43mcsv\u001b[49m\u001b[38;5;241;43m.\u001b[39;49m\u001b[43mfield_size_limit\u001b[49m\u001b[43m(\u001b[49m\u001b[43msys\u001b[49m\u001b[38;5;241;43m.\u001b[39;49m\u001b[43mmaxsize\u001b[49m\u001b[43m)\u001b[49m\n\u001b[0;32m      6\u001b[0m \u001b[38;5;66;03m#This is where the unzipped corpus file is stored in Colab file storage\u001b[39;00m\n\u001b[0;32m      7\u001b[0m CORPUS_FILE_PATH \u001b[38;5;241m=\u001b[39m \u001b[38;5;124m'\u001b[39m\u001b[38;5;124m/content/DH2024_Corpus_Release/\u001b[39m\u001b[38;5;124m'\u001b[39m\n",
      "\u001b[1;31mOverflowError\u001b[0m: Python int too large to convert to C long"
     ]
    }
   ],
   "source": [
    "import sys\n",
    "import csv\n",
    "\n",
    "csv.field_size_limit(sys.maxsize)\n",
    "\n",
    "#This is where the unzipped corpus file is stored in Colab file storage\n",
    "CORPUS_FILE_PATH = '/content/DH2024_Corpus_Release/'\n",
    "\n",
    "#We have 4 state sets\n",
    "VALID_STATES=[\"CA\", \"FL\", \"NY\", \"TX\"]\n",
    "\n",
    "#Each state set has 9 csv files for each session year\n",
    "CSV_FILENAMES=['bills','committeeHearings', 'committeeRosters',\n",
    "               'committees', 'hearings', 'legislature',\n",
    "               'people','speeches','videos']\n",
    "\n",
    "#Load data from CSVs into a Python object to reference later\n",
    "#Input:\n",
    "#  Required: file_name (type:String) (Ex: speeches, bills, etc)\n",
    "#  Optional: states (type:List of Strings or None) (Ex: [\"CA\"], [\"FL,TX\"])\n",
    "#     -If not specified (states=None), function returns data for all states\n",
    "#  Optional: years (type:List of Ints or None) (Ex:[2018], [2015,2016])\n",
    "#     -If not specified (years=None), function returns data for all valid years\n",
    "#Output:\n",
    "#  Payload (Type: Dict) (Ex: {column_headers:['pid','cid','date'], rows:[[0,2,2018],[2,1,2018]]})\n",
    "def load_content(file_name, states=None, years=None):\n",
    "  #Only accept valid states, Corpus only contains data on CA, FL, NY, and TX legislations\n",
    "  if states is not None and not all(item in VALID_STATES for item in states):\n",
    "    raise Exception(\"Invalid State Abbv(s), corpus only contains data on CA, FL, NY, and TX\")\n",
    "  #Only accept valid file names from corpus, like speeches, bills, etc.\n",
    "  if file_name not in CSV_FILENAMES:\n",
    "    raise Exception(\"Invalid filename, must be one of the 9 files provide\")\n",
    "  #Only accept years belonging to a valid legislative session. (2017-2018 for all states, 2015-2016 for CA)\n",
    "  if years is not None and ((not all(item > 2015 for item in years) and \"CA\" not in states) or (not all(item <= 2018 for item in years))):\n",
    "    raise Exception(\"\"\"Data for requested year not included in corpus.\n",
    "     Valid session_years are 2017 and 2018 for all states provided. 2015 and 2016 are valid years for CA.\"\"\")\n",
    "\n",
    "  payload = {}\n",
    "  header_row = True\n",
    "\n",
    "  #If no states specified, retrieve relevant files for all valid states\n",
    "  if states is None:\n",
    "    states = VALID_STATES\n",
    "\n",
    "  #If no years/session specified, retrieve data for all valid state legislative session years\n",
    "  if years is None:\n",
    "    if \"CA\" in states:\n",
    "      years= [2015,2016,2017,2018]\n",
    "    else:\n",
    "      years = [2017,2018]\n",
    "\n",
    "  #The following code block operates as follows:\n",
    "  # For every state and year requested, read the relevant CSV file(s), then\n",
    "  # load it into a python object (payload) which is returned to user\n",
    "  for state in states:\n",
    "    FILE_PATHS = []\n",
    "\n",
    "    #Build the filepaths to the correct data location given the states and years provided\n",
    "    #Years 2017 and 2018 are valid inputs that belong to the same 2017-2018 session\n",
    "    if 2017 in years or 2018 in years:\n",
    "      FILE_PATHS.append(CORPUS_FILE_PATH + state + \"/2017-2018/CSV/\" + file_name + \".csv\")\n",
    "\n",
    "    #CA has 2 valid legislative sessions (2015-2016 and 2017-2018)\n",
    "    #This means the entirety of CA data is located in more than one folder, unlike other states.\n",
    "    #Looping through a list of filepaths allows us to handle this corner case\n",
    "    if state == \"CA\" and (2015 in years or 2016 in years):\n",
    "      FILE_PATHS.append(CORPUS_FILE_PATH + state + \"/2015-2016/CSV/\" + file_name + \".csv\")\n",
    "\n",
    "    for FILE_PATH in FILE_PATHS:\n",
    "      #Open the file to read\n",
    "      with open(FILE_PATH, newline='') as csvfile:\n",
    "        rows = csv.reader(csvfile, delimiter=',')\n",
    "        #Read CSV row by row\n",
    "        for row in rows:\n",
    "          #The first row of every CSV we visit is the header row, containing the names for each column\n",
    "          # We will add this to the payload only once, as every CSV we read after this will be the same headers\n",
    "          if header_row:\n",
    "            payload['column_headers'] = row\n",
    "            #Sets up 'rows' in payload where we will store future records\n",
    "            payload['rows'] = []\n",
    "            header_row = False\n",
    "            continue\n",
    "          #Load CSV Into payload row by row\n",
    "          payload['rows'].append(row)\n",
    "\n",
    "  return payload\n",
    "\n",
    "#Example Usage:\n",
    "load_content(\"legislature\", states= [\"FL\", \"TX\"], years=[2017])"
   ]
  },
  {
   "cell_type": "code",
   "execution_count": 3,
   "metadata": {},
   "outputs": [
    {
     "ename": "NameError",
     "evalue": "name 'load_content' is not defined",
     "output_type": "error",
     "traceback": [
      "\u001b[1;31m---------------------------------------------------------------------------\u001b[0m",
      "\u001b[1;31mNameError\u001b[0m                                 Traceback (most recent call last)",
      "Cell \u001b[1;32mIn[3], line 36\u001b[0m\n\u001b[0;32m     34\u001b[0m   \u001b[38;5;28;01mreturn\u001b[39;00m matches\n\u001b[0;32m     35\u001b[0m \u001b[38;5;66;03m#Example usage\u001b[39;00m\n\u001b[1;32m---> 36\u001b[0m find_bill_from_bid(\u001b[38;5;124m'\u001b[39m\u001b[38;5;124m883\u001b[39m\u001b[38;5;124m'\u001b[39m, partial_match\u001b[38;5;241m=\u001b[39m\u001b[38;5;28;01mTrue\u001b[39;00m, speeches\u001b[38;5;241m=\u001b[39m\u001b[43mload_content\u001b[49m(\u001b[38;5;124m\"\u001b[39m\u001b[38;5;124mspeeches\u001b[39m\u001b[38;5;124m\"\u001b[39m, states\u001b[38;5;241m=\u001b[39m[\u001b[38;5;124m\"\u001b[39m\u001b[38;5;124mFL\u001b[39m\u001b[38;5;124m\"\u001b[39m]))\n",
      "\u001b[1;31mNameError\u001b[0m: name 'load_content' is not defined"
     ]
    }
   ],
   "source": [
    "#Retrieve the Hearing ID, legislative session, and hearing date where a provided Bill ID is discussed\n",
    "#Input:\n",
    "#  Required: BID (type:String) (Ex: Full 'FL_20170HB883' or partial '883' bill ID)\n",
    "#  Optional: partial_match (Type:Boolean) (Default is False)\n",
    "#  Optional: speeches\n",
    "#e      -If searching for a bid from a specific state or session, pass in\n",
    "#         speeches=load_content(\"speeches\", specific states, specific years)\n",
    "#Output:\n",
    "#   (Type: List[String, Int, Int, Date]) (Ex: BID, HID, Session, Hearing Date)\n",
    "#   If no matches exist does not exist in database, returns None\n",
    "def find_bill_from_bid(bid, partial_match=False, speeches=None):\n",
    "  #These are the indexes/locations of information within each row\n",
    "  HID_IDX = 3\n",
    "  BID_IDX = 4\n",
    "  SESSION_IDX = 7\n",
    "  DATE_IDX = 6\n",
    "  #If data not provided, search through data from all states and sessions\n",
    "  if speeches is None:\n",
    "    speeches = load_content(\"speeches\")\n",
    "  #List of unique HIDS\n",
    "  HIDS = []\n",
    "  matches = []\n",
    "  #For every speech, check if the BID being discussed matches the provided BID\n",
    "  #If matching, add relevant BID, HID, Session, and Date to matches\n",
    "  #Append HID to HIDS to prevent duplicates\n",
    "  for row in speeches['rows']:\n",
    "    if not partial_match and row[BID_IDX] == bid and row[HID_IDX] not in HIDS:\n",
    "      matches.append([bid, row[HID_IDX], row[SESSION_IDX], row[DATE_IDX]])\n",
    "      HIDS.append(row[HID_IDX])\n",
    "    if partial_match and bid in row[BID_IDX] and row[HID_IDX] not in HIDS:\n",
    "      matches.append([row[BID_IDX], row[HID_IDX], row[SESSION_IDX], row[DATE_IDX]])\n",
    "      HIDS.append(row[HID_IDX])\n",
    "\n",
    "  return matches\n",
    "#Example usage\n",
    "find_bill_from_bid('883', partial_match=True, speeches=load_content(\"speeches\", states=[\"FL\"]))"
   ]
  }
 ],
 "metadata": {
  "kernelspec": {
   "display_name": "Python 3",
   "language": "python",
   "name": "python3"
  },
  "language_info": {
   "codemirror_mode": {
    "name": "ipython",
    "version": 3
   },
   "file_extension": ".py",
   "mimetype": "text/x-python",
   "name": "python",
   "nbconvert_exporter": "python",
   "pygments_lexer": "ipython3",
   "version": "3.12.6"
  }
 },
 "nbformat": 4,
 "nbformat_minor": 2
}
